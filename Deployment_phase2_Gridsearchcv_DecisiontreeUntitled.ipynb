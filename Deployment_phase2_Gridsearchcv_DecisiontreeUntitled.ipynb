{
 "cells": [
  {
   "cell_type": "code",
   "execution_count": 1,
   "id": "4b56c044-3920-43c7-b19f-e8ff8da75caa",
   "metadata": {},
   "outputs": [],
   "source": [
    "# End Uses"
   ]
  },
  {
   "cell_type": "code",
   "execution_count": 3,
   "id": "042dae7a-3953-4b47-8077-04c9919edcc0",
   "metadata": {},
   "outputs": [],
   "source": [
    "import pickle"
   ]
  },
  {
   "cell_type": "code",
   "execution_count": 4,
   "id": "0e25b643-baa9-4893-99e2-691ffb6d8ecf",
   "metadata": {},
   "outputs": [
    {
     "name": "stderr",
     "output_type": "stream",
     "text": [
      "C:\\Anaconda3\\Lib\\site-packages\\sklearn\\base.py:493: UserWarning: X does not have valid feature names, but DecisionTreeRegressor was fitted with feature names\n",
      "  warnings.warn(\n"
     ]
    }
   ],
   "source": [
    "loaded_model=pickle.load(open(\"Finalized_model_Gridsearchcv_Assignment_Regression.sav\",'rb'))\n",
    "\n",
    "result = loaded_model.predict([[32,43,2,0,1]])"
   ]
  },
  {
   "cell_type": "code",
   "execution_count": null,
   "id": "4b855bdb-d733-488f-b111-2ff697fe6d74",
   "metadata": {},
   "outputs": [],
   "source": []
  }
 ],
 "metadata": {
  "kernelspec": {
   "display_name": "Python 3 (ipykernel)",
   "language": "python",
   "name": "python3"
  },
  "language_info": {
   "codemirror_mode": {
    "name": "ipython",
    "version": 3
   },
   "file_extension": ".py",
   "mimetype": "text/x-python",
   "name": "python",
   "nbconvert_exporter": "python",
   "pygments_lexer": "ipython3",
   "version": "3.12.4"
  }
 },
 "nbformat": 4,
 "nbformat_minor": 5
}
